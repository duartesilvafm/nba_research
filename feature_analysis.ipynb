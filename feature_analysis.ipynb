{
 "cells": [
  {
   "attachments": {},
   "cell_type": "markdown",
   "metadata": {},
   "source": [
    "## Feature Analysis"
   ]
  },
  {
   "attachments": {},
   "cell_type": "markdown",
   "metadata": {},
   "source": [
    "To analyze what are the most important indicators whether a team will win or lose, we will now build a simple binary predictor model and study which are the variables which help predict wins and losses more.\n",
    "\n",
    "Since we are only trying to analyze the features, we will use the same game variables for our x values, since the aim is not build predictions.\n",
    "\n",
    "To analyze the importance of the features, we will use the following models:\n",
    "\n",
    "* Logistics Regression\n",
    "* Random Forest Classifier\n",
    "* Gradient Boost Classifier\n",
    "* XGBoost Classifier"
   ]
  },
  {
   "cell_type": "code",
   "execution_count": null,
   "metadata": {},
   "outputs": [],
   "source": [
    "import pandas as pd\n",
    "import numpy as np\n",
    "import copy\n",
    "\n",
    "from sklearn.linear_model import LogisticRegression\n",
    "from sklearn.ensemble import RandomForestClassifier, GradientBoostingClassifier\n",
    "from xgboost import XGBClassifier\n",
    "from sklearn.preprocessing import MinMaxScaler\n",
    "\n",
    "from modules.model import Model, ML_Model"
   ]
  },
  {
   "cell_type": "code",
   "execution_count": null,
   "metadata": {},
   "outputs": [],
   "source": [
    "team_data = pd.read_csv(f'./data/team_data.csv')"
   ]
  },
  {
   "attachments": {},
   "cell_type": "markdown",
   "metadata": {},
   "source": [
    "For this model, this will be the following features we will include:\n",
    "\n",
    "* fg3a\n",
    "* fg2a\n",
    "* fta\n",
    "* fg3_pct\n",
    "* fg2_pct\n",
    "* ft_pct\n",
    "* ast_ratio\n",
    "* team_tov_pct\n",
    "* team_orb_pct\n",
    "* team_efg_pct\n",
    "\n",
    "Our target variable will be the Win variable"
   ]
  },
  {
   "cell_type": "code",
   "execution_count": null,
   "metadata": {},
   "outputs": [],
   "source": [
    "x_vars = ['fg3a', 'fg2a', 'fta', 'fg3_pct', 'fg2_pct', 'ft_pct', 'ast_ratio', 'team_tov_pct', 'team_orb_pct', 'team_efg_pct']\n",
    "y_var = ['win']"
   ]
  },
  {
   "cell_type": "code",
   "execution_count": null,
   "metadata": {},
   "outputs": [],
   "source": [
    "model_data = team_data.copy(deep=True)\n",
    "model_data.columns = [x.lower().strip() for x in model_data.columns]\n",
    "model_data = model_data[x_vars + y_var]\n",
    "model_data.head()"
   ]
  },
  {
   "attachments": {},
   "cell_type": "markdown",
   "metadata": {},
   "source": [
    "Since the variables all have different ranges to them, we will min max scale all variables above"
   ]
  },
  {
   "cell_type": "code",
   "execution_count": null,
   "metadata": {},
   "outputs": [],
   "source": [
    "# define vars for train test split\n",
    "\n",
    "TEST_SIZE = 0.2\n",
    "SEED = 4"
   ]
  },
  {
   "cell_type": "code",
   "execution_count": null,
   "metadata": {},
   "outputs": [],
   "source": [
    "X, y = model_data[x_vars].values, model_data[y_var].values"
   ]
  },
  {
   "cell_type": "code",
   "execution_count": null,
   "metadata": {},
   "outputs": [],
   "source": [
    "# min max scale variables\n",
    "min_max_scaler = MinMaxScaler(feature_range=(0,1))\n",
    "\n",
    "X_scaled = min_max_scaler.fit_transform(X)"
   ]
  },
  {
   "attachments": {},
   "cell_type": "markdown",
   "metadata": {},
   "source": [
    "### Feature Analysis with tree based models"
   ]
  },
  {
   "cell_type": "code",
   "execution_count": null,
   "metadata": {},
   "outputs": [],
   "source": [
    "rf = {\"Name\": \"RF\", \"Classifier\": RandomForestClassifier(), \"Parameter Grid\": {\"max_depth\":[6,7,8,9,10], \"n_estimators\":[150,200,250,300,400]}, 'max_features': [4,5,6,7]}\n",
    "gb = {\"Name\": \"GB\", \"Classifier\": GradientBoostingClassifier(), \"Parameter Grid\": {\"max_depth\":[6,7,8,9,10], \"n_estimators\":[150,200,250,300,400], \"learning_rate\": [0.1, 0.05, 0.01, 0.001], 'max_features': [4,5,6,7], 'subsample': [0.5, 0.6, 0.7, 0.8, 0.9]}}\n",
    "xgb = {\"Name\": \"XGB\", \"Classifier\": XGBClassifier(verbosity = 0), \"Parameter Grid\": {\"max_depth\":[6,7,8,9,10], \"n_estimators\":[150,200,250,300,400], \"eta\": [0.1, 0.05, 0.01, 0.001], 'subsample': [0.5, 0.6, 0.7, 0.8, 0.9]}}\n",
    "\n",
    "algorithms_params = [rf, gb, xgb]\n"
   ]
  },
  {
   "cell_type": "code",
   "execution_count": null,
   "metadata": {},
   "outputs": [],
   "source": [
    "def run_model_commands(model, metrics = [\"accuracy\"], test_size: float=0.2):\n",
    "    \"\"\"\n",
    "    function to run the commands of a model object\n",
    "    \"\"\"\n",
    "    model.get_best_params(metrics)\n",
    "    model.set_params(metrics[0])\n",
    "    model.get_best_score_gs(metrics[0])\n",
    "    model.train_test_split(test_size = test_size)\n",
    "    model.train_model()\n",
    "    model.test_model()"
   ]
  },
  {
   "cell_type": "code",
   "execution_count": null,
   "metadata": {},
   "outputs": [],
   "source": [
    "estimators = {}\n",
    "\n",
    "# run through the different algorithms chosen\n",
    "for algorithm in algorithms_params:\n",
    "\n",
    "    for metric in [\"accuracy\"]:\n",
    "\n",
    "        # create a deep copy of the object\n",
    "        algorithm_copy = copy.deepcopy(algorithm)\n",
    "\n",
    "        # create the object for the model\n",
    "        model = ML_Model(X=X_scaled, y=y, base_model=algorithm_copy[\"Classifier\"], param_grid=algorithm_copy[\"Parameter Grid\"], seed=SEED)\n",
    "    \n",
    "        # run the commands from the class necessary to create the model\n",
    "        print(f\"running commands {algorithm_copy['Classifier']} & {metric}...\")\n",
    "        run_model_commands(model, [metric])\n",
    "\n",
    "        print(\"storing model ...\")\n",
    "        estimators[f\"{algorithm_copy['Name']}_{metric}\"] = model"
   ]
  },
  {
   "cell_type": "code",
   "execution_count": null,
   "metadata": {},
   "outputs": [],
   "source": []
  }
 ],
 "metadata": {
  "kernelspec": {
   "display_name": "nba",
   "language": "python",
   "name": "python3"
  },
  "language_info": {
   "codemirror_mode": {
    "name": "ipython",
    "version": 3
   },
   "file_extension": ".py",
   "mimetype": "text/x-python",
   "name": "python",
   "nbconvert_exporter": "python",
   "pygments_lexer": "ipython3",
   "version": "3.10.4 | packaged by conda-forge | (main, Mar 30 2022, 08:38:02) [MSC v.1916 64 bit (AMD64)]"
  },
  "orig_nbformat": 4,
  "vscode": {
   "interpreter": {
    "hash": "655ed73ecbb98cb9b76947a7ee1a2f2570c49d19864a12727ffd90473a067d71"
   }
  }
 },
 "nbformat": 4,
 "nbformat_minor": 2
}
